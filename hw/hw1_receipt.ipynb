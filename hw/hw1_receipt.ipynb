{
 "cells": [
  {
   "cell_type": "code",
   "execution_count": 18,
   "id": "64de30d5-8aaf-4cbb-97fa-2590b0d45a33",
   "metadata": {},
   "outputs": [
    {
     "name": "stdout",
     "output_type": "stream",
     "text": [
      "Customer One Items:\n",
      "Lovely Loveseat. Tufted polyester blend on wood. 32 inches high x 40 inches wide x 30 inches deep. Red or white.Luxurious Lamp. Glass and iron. 36 inches tall. Brown with cream shade.\n",
      "Customer One Total:\n",
      "333.09119999999996\n"
     ]
    }
   ],
   "source": [
    "lovely_loveseat_description = \"Lovely Loveseat. Tufted polyester blend on wood. 32 inches high x 40 inches wide x 30 inches deep. Red or white.\" #lovely_loveseat제품 설명\n",
    "\n",
    "lovely_loveseat_price = 254.00 #lovely_loveseat의 가격\n",
    "\n",
    "stylish_settee_description = \"Stylish Settee. Faux leather on birch. 29.50 inches high x 54.75 inches wide x 28 inches deep. Black.\" #stylish_settee제품 설명\n",
    "\n",
    "stylish_settee_price = 180.50 #stylish_settee의 가격\n",
    "\n",
    "luxurious_lamp_description = \"Luxurious Lamp. Glass and iron. 36 inches tall. Brown with cream shade.\" #luxurious_lamp제품 설명\n",
    "\n",
    "luxurious_lamp_price = 52.15 #luxurious_lamp의 가격\n",
    "\n",
    "sales_tax = 0.088 #판매 세금\n",
    "\n",
    "customer_one_total = 0 #고객이 구매한 가격의 변수\n",
    "\n",
    "customer_one_itemization = \"\" #고객이 구매한 물건의 목록\n",
    "\n",
    "customer_one_total += 254.00 #lovely_loveseat구매 가격추가\n",
    "\n",
    "customer_one_itemization += lovely_loveseat_description #lovely_loveseat구매목록 추가\n",
    "\n",
    "customer_one_total += 52.15 #luxurious_lamp구매 가격추가\n",
    "\n",
    "customer_one_itemization += luxurious_lamp_description #luxurious_lamp구매목록 추가\n",
    "\n",
    "customer_one_tax = customer_one_total * sales_tax #판매세 계산\n",
    "\n",
    "customer_one_total += customer_one_tax #최종 가격 계산\n",
    "\n",
    "\"\"\"\n",
    "영수증 출력\n",
    "\"\"\"\n",
    "print(\"Customer One Items:\")\n",
    "print(customer_one_itemization)\n",
    "print(\"Customer One Total:\")\n",
    "print(customer_one_total)"
   ]
  }
 ],
 "metadata": {
  "kernelspec": {
   "display_name": "Python 3",
   "language": "python",
   "name": "python3"
  },
  "language_info": {
   "codemirror_mode": {
    "name": "ipython",
    "version": 3
   },
   "file_extension": ".py",
   "mimetype": "text/x-python",
   "name": "python",
   "nbconvert_exporter": "python",
   "pygments_lexer": "ipython3",
   "version": "3.8.8"
  }
 },
 "nbformat": 4,
 "nbformat_minor": 5
}
